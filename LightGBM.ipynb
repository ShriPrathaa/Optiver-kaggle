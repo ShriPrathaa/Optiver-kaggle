{
 "cells": [
  {
   "cell_type": "code",
   "execution_count": 1,
   "id": "32593087",
   "metadata": {
    "_cell_guid": "b1076dfc-b9ad-4769-8c92-a6c4dae69d19",
    "_uuid": "8f2839f25d086af736a60e9eeb907d3b93b6e0e5",
    "execution": {
     "iopub.execute_input": "2023-12-20T19:55:45.345579Z",
     "iopub.status.busy": "2023-12-20T19:55:45.345007Z",
     "iopub.status.idle": "2023-12-20T19:55:45.868512Z",
     "shell.execute_reply": "2023-12-20T19:55:45.866718Z"
    },
    "papermill": {
     "duration": 0.536337,
     "end_time": "2023-12-20T19:55:45.873770",
     "exception": false,
     "start_time": "2023-12-20T19:55:45.337433",
     "status": "completed"
    },
    "tags": []
   },
   "outputs": [
    {
     "name": "stdout",
     "output_type": "stream",
     "text": [
      "/kaggle/input/optiver-trading-at-the-close/public_timeseries_testing_util.py\n",
      "/kaggle/input/optiver-trading-at-the-close/train.csv\n",
      "/kaggle/input/optiver-trading-at-the-close/example_test_files/sample_submission.csv\n",
      "/kaggle/input/optiver-trading-at-the-close/example_test_files/revealed_targets.csv\n",
      "/kaggle/input/optiver-trading-at-the-close/example_test_files/test.csv\n",
      "/kaggle/input/optiver-trading-at-the-close/optiver2023/competition.cpython-310-x86_64-linux-gnu.so\n",
      "/kaggle/input/optiver-trading-at-the-close/optiver2023/__init__.py\n"
     ]
    }
   ],
   "source": [
    "# This Python 3 environment comes with many helpful analytics libraries installed\n",
    "# It is defined by the kaggle/python Docker image: https://github.com/kaggle/docker-python\n",
    "# For example, here's several helpful packages to load\n",
    "\n",
    "import numpy as np # linear algebra\n",
    "import pandas as pd # data processing, CSV file I/O (e.g. pd.read_csv)\n",
    "\n",
    "# Input data files are available in the read-only \"../input/\" directory\n",
    "# For example, running this (by clicking run or pressing Shift+Enter) will list all files under the input directory\n",
    "\n",
    "import os\n",
    "for dirname, _, filenames in os.walk('/kaggle/input'):\n",
    "    for filename in filenames:\n",
    "        print(os.path.join(dirname, filename))\n",
    "\n",
    "# You can write up to 20GB to the current directory (/kaggle/working/) that gets preserved as output when you create a version using \"Save & Run All\" \n",
    "# You can also write temporary files to /kaggle/temp/, but they won't be saved outside of the current session"
   ]
  },
  {
   "cell_type": "code",
   "execution_count": 2,
   "id": "ac60b042",
   "metadata": {
    "execution": {
     "iopub.execute_input": "2023-12-20T19:55:45.891091Z",
     "iopub.status.busy": "2023-12-20T19:55:45.889497Z",
     "iopub.status.idle": "2023-12-20T19:56:12.246657Z",
     "shell.execute_reply": "2023-12-20T19:56:12.244809Z"
    },
    "papermill": {
     "duration": 26.36867,
     "end_time": "2023-12-20T19:56:12.251239",
     "exception": false,
     "start_time": "2023-12-20T19:55:45.882569",
     "status": "completed"
    },
    "tags": []
   },
   "outputs": [],
   "source": [
    "import pandas as pd\n",
    "train_df = pd.read_csv('/kaggle/input/optiver-trading-at-the-close/train.csv')\n"
   ]
  },
  {
   "cell_type": "code",
   "execution_count": 3,
   "id": "d0389190",
   "metadata": {
    "execution": {
     "iopub.execute_input": "2023-12-20T19:56:12.264874Z",
     "iopub.status.busy": "2023-12-20T19:56:12.264356Z",
     "iopub.status.idle": "2023-12-20T19:56:12.447359Z",
     "shell.execute_reply": "2023-12-20T19:56:12.445770Z"
    },
    "papermill": {
     "duration": 0.194137,
     "end_time": "2023-12-20T19:56:12.451017",
     "exception": false,
     "start_time": "2023-12-20T19:56:12.256880",
     "status": "completed"
    },
    "tags": []
   },
   "outputs": [],
   "source": [
    "test_df = pd.read_csv('/kaggle/input/optiver-trading-at-the-close/example_test_files/test.csv')\n"
   ]
  },
  {
   "cell_type": "code",
   "execution_count": 4,
   "id": "da2bf220",
   "metadata": {
    "execution": {
     "iopub.execute_input": "2023-12-20T19:56:12.464403Z",
     "iopub.status.busy": "2023-12-20T19:56:12.463526Z",
     "iopub.status.idle": "2023-12-20T19:56:12.518332Z",
     "shell.execute_reply": "2023-12-20T19:56:12.516525Z"
    },
    "papermill": {
     "duration": 0.065622,
     "end_time": "2023-12-20T19:56:12.522158",
     "exception": false,
     "start_time": "2023-12-20T19:56:12.456536",
     "status": "completed"
    },
    "tags": []
   },
   "outputs": [],
   "source": [
    "target_df = pd.read_csv('/kaggle/input/optiver-trading-at-the-close/example_test_files/revealed_targets.csv')\n"
   ]
  },
  {
   "cell_type": "code",
   "execution_count": 5,
   "id": "e964bb12",
   "metadata": {
    "execution": {
     "iopub.execute_input": "2023-12-20T19:56:12.536066Z",
     "iopub.status.busy": "2023-12-20T19:56:12.535581Z",
     "iopub.status.idle": "2023-12-20T19:56:13.511542Z",
     "shell.execute_reply": "2023-12-20T19:56:13.510066Z"
    },
    "papermill": {
     "duration": 0.987468,
     "end_time": "2023-12-20T19:56:13.515000",
     "exception": false,
     "start_time": "2023-12-20T19:56:12.527532",
     "status": "completed"
    },
    "tags": []
   },
   "outputs": [],
   "source": [
    "train_df.dropna(axis=0, how='any', inplace=True)\n",
    "train_df.interpolate(method='linear', inplace=True)\n",
    "test_df.interpolate(method='linear', inplace=True)\n",
    "target_df.dropna(axis=0,subset=['revealed_target'], inplace=True)\n",
    "target_df.interpolate(method='linear', inplace=True)\n",
    "\n"
   ]
  },
  {
   "cell_type": "code",
   "execution_count": 6,
   "id": "67bab5d5",
   "metadata": {
    "execution": {
     "iopub.execute_input": "2023-12-20T19:56:13.527471Z",
     "iopub.status.busy": "2023-12-20T19:56:13.527016Z",
     "iopub.status.idle": "2023-12-20T19:56:15.152054Z",
     "shell.execute_reply": "2023-12-20T19:56:15.150189Z"
    },
    "papermill": {
     "duration": 1.63519,
     "end_time": "2023-12-20T19:56:15.155542",
     "exception": false,
     "start_time": "2023-12-20T19:56:13.520352",
     "status": "completed"
    },
    "tags": []
   },
   "outputs": [],
   "source": [
    "# !sudo pip install xgboost\n",
    "from sklearn.metrics import mean_absolute_error\n",
    "import numpy as np\n",
    "from sklearn.model_selection import KFold"
   ]
  },
  {
   "cell_type": "code",
   "execution_count": 7,
   "id": "02921d39",
   "metadata": {
    "execution": {
     "iopub.execute_input": "2023-12-20T19:56:15.167796Z",
     "iopub.status.busy": "2023-12-20T19:56:15.167278Z",
     "iopub.status.idle": "2023-12-20T19:56:17.701806Z",
     "shell.execute_reply": "2023-12-20T19:56:17.700783Z"
    },
    "papermill": {
     "duration": 2.544562,
     "end_time": "2023-12-20T19:56:17.705344",
     "exception": false,
     "start_time": "2023-12-20T19:56:15.160782",
     "status": "completed"
    },
    "tags": []
   },
   "outputs": [],
   "source": [
    "vals=train_df.values\n",
    "y = vals[:,-3]\n",
    "X=vals[:,:-3]"
   ]
  },
  {
   "cell_type": "code",
   "execution_count": 8,
   "id": "c0dbdbdd",
   "metadata": {
    "execution": {
     "iopub.execute_input": "2023-12-20T19:56:17.721917Z",
     "iopub.status.busy": "2023-12-20T19:56:17.720611Z",
     "iopub.status.idle": "2023-12-20T19:56:17.763981Z",
     "shell.execute_reply": "2023-12-20T19:56:17.762383Z"
    },
    "papermill": {
     "duration": 0.055879,
     "end_time": "2023-12-20T19:56:17.768126",
     "exception": false,
     "start_time": "2023-12-20T19:56:17.712247",
     "status": "completed"
    },
    "tags": []
   },
   "outputs": [],
   "source": [
    "values=test_df.values\n",
    "X_test=values[:,:-3]\n",
    "y_test=target_df.values[:,:-2]\n"
   ]
  },
  {
   "cell_type": "code",
   "execution_count": 9,
   "id": "2c765076",
   "metadata": {
    "execution": {
     "iopub.execute_input": "2023-12-20T19:56:17.784762Z",
     "iopub.status.busy": "2023-12-20T19:56:17.784205Z",
     "iopub.status.idle": "2023-12-20T19:56:47.807955Z",
     "shell.execute_reply": "2023-12-20T19:56:47.804082Z"
    },
    "papermill": {
     "duration": 30.03958,
     "end_time": "2023-12-20T19:56:47.814606",
     "exception": false,
     "start_time": "2023-12-20T19:56:17.775026",
     "status": "completed"
    },
    "tags": []
   },
   "outputs": [
    {
     "name": "stdout",
     "output_type": "stream",
     "text": [
      "[LightGBM] [Warning] lambda_l1 is set=100, reg_alpha=0.0 will be ignored. Current value: lambda_l1=100\n",
      "[LightGBM] [Warning] bagging_fraction is set=0.6000000000000001, subsample=1.0 will be ignored. Current value: bagging_fraction=0.6000000000000001\n",
      "[LightGBM] [Warning] min_gain_to_split is set=6.843290098717733, min_split_gain=0.0 will be ignored. Current value: min_gain_to_split=6.843290098717733\n",
      "[LightGBM] [Warning] lambda_l2 is set=30, reg_lambda=0.0 will be ignored. Current value: lambda_l2=30\n",
      "[LightGBM] [Warning] feature_fraction is set=0.9, colsample_bytree=1.0 will be ignored. Current value: feature_fraction=0.9\n",
      "[LightGBM] [Warning] min_data_in_leaf is set=200, min_child_samples=20 will be ignored. Current value: min_data_in_leaf=200\n",
      "[LightGBM] [Warning] bagging_freq is set=1, subsample_freq=0 will be ignored. Current value: bagging_freq=1\n",
      "Training until validation scores don't improve for 10 rounds\n",
      "Early stopping, best iteration is:\n",
      "[18]\tvalid_0's l1: 5.765\tvalid_0's l2: 72.2046\n",
      "Training until validation scores don't improve for 10 rounds\n",
      "Early stopping, best iteration is:\n",
      "[14]\tvalid_0's l1: 5.85723\tvalid_0's l2: 72.2874\n",
      "Training until validation scores don't improve for 10 rounds\n",
      "Early stopping, best iteration is:\n",
      "[9]\tvalid_0's l1: 5.32016\tvalid_0's l2: 61.5106\n"
     ]
    }
   ],
   "source": [
    "from lightgbm import early_stopping\n",
    "import lightgbm as lgb\n",
    "from sklearn.model_selection import KFold\n",
    "\n",
    "kf = KFold(n_splits=3)\n",
    "for train_index, test_index in kf.split(X, y):\n",
    "    gbm = lgb.LGBMRegressor(objective='regression',n_estimators= 1000,\n",
    " learning_rate= 0.2861413864444475,\n",
    " num_leaves= 2420,\n",
    " max_depth= 8,\n",
    " min_data_in_leaf= 200,\n",
    " lambda_l1=100,\n",
    " lambda_l2= 30,\n",
    " min_gain_to_split= 6.843290098717733,\n",
    " bagging_fraction=0.6000000000000001,\n",
    " bagging_freq= 1,\n",
    " feature_fraction= 0.9).fit(X[train_index], y[train_index],\n",
    "        eval_set=[(X[test_index], y[test_index])],\n",
    "        eval_metric='l1', callbacks=[early_stopping(stopping_rounds=10)])\n"
   ]
  },
  {
   "cell_type": "code",
   "execution_count": 10,
   "id": "68f74c78",
   "metadata": {
    "execution": {
     "iopub.execute_input": "2023-12-20T19:56:47.828486Z",
     "iopub.status.busy": "2023-12-20T19:56:47.827991Z",
     "iopub.status.idle": "2023-12-20T19:56:49.637293Z",
     "shell.execute_reply": "2023-12-20T19:56:49.635799Z"
    },
    "papermill": {
     "duration": 1.823105,
     "end_time": "2023-12-20T19:56:49.643416",
     "exception": false,
     "start_time": "2023-12-20T19:56:47.820311",
     "status": "completed"
    },
    "tags": []
   },
   "outputs": [
    {
     "name": "stdout",
     "output_type": "stream",
     "text": [
      "This version of the API is not optimized and should not be used to estimate the runtime of your code on the hidden test set.\n",
      "   stock_id  date_id  seconds_in_bucket  imbalance_size  \\\n",
      "0         0      478                  0      3753451.43   \n",
      "1         1      478                  0       985977.11   \n",
      "2         2      478                  0       599128.74   \n",
      "\n",
      "   imbalance_buy_sell_flag  reference_price  matched_size  far_price  \\\n",
      "0                       -1         0.999875   11548975.43        NaN   \n",
      "1                       -1         1.000245    3850033.97        NaN   \n",
      "2                        1         1.000584    4359198.25        NaN   \n",
      "\n",
      "   near_price  bid_price  bid_size  ask_price  ask_size  wap   row_id  \\\n",
      "0         NaN   0.999875  22940.00   1.000050   9177.60  1.0  478_0_0   \n",
      "1         NaN   0.999940   1967.90   1.000601  19692.00  1.0  478_0_1   \n",
      "2         NaN   0.999918   4488.22   1.000636  34955.12  1.0  478_0_2   \n",
      "\n",
      "   currently_scored  \n",
      "0             False  \n",
      "1             False  \n",
      "2             False  \n",
      "   stock_id  date_id  seconds_in_bucket  revealed_target  revealed_date_id  \\\n",
      "0         0      478                  0        -2.310276               477   \n",
      "1         1      478                  0       -12.850165               477   \n",
      "2         2      478                  0        -0.439882               477   \n",
      "\n",
      "   revealed_time_id  \n",
      "0             26235  \n",
      "1             26235  \n",
      "2             26235  \n",
      "    row_id  target\n",
      "0  478_0_0     0.0\n",
      "1  478_0_1     0.0\n",
      "2  478_0_2     0.0\n"
     ]
    }
   ],
   "source": [
    "import optiver2023\n",
    "optiver2023.make_env.func_dict['__called__'] = False\n",
    "env = optiver2023.make_env()\n",
    "iter_test = env.iter_test()\n",
    "counter = 0\n",
    "for (test, revealed_targets, sample_prediction) in iter_test:\n",
    "    if counter == 0:\n",
    "        print(test.head(3))\n",
    "        print(revealed_targets.head(3))\n",
    "        print(sample_prediction.head(3))\n",
    "    test_splice =  test.iloc[:, :-2]\n",
    "    sample_prediction['target'] = gbm.predict(test_splice)\n",
    "    env.predict(sample_prediction)\n",
    "    counter += 1\n",
    "\n"
   ]
  }
 ],
 "metadata": {
  "kaggle": {
   "accelerator": "none",
   "dataSources": [
    {
     "databundleVersionId": 7056235,
     "sourceId": 57891,
     "sourceType": "competition"
    }
   ],
   "dockerImageVersionId": 30626,
   "isGpuEnabled": false,
   "isInternetEnabled": false,
   "language": "python",
   "sourceType": "notebook"
  },
  "kernelspec": {
   "display_name": "Python 3",
   "language": "python",
   "name": "python3"
  },
  "language_info": {
   "codemirror_mode": {
    "name": "ipython",
    "version": 3
   },
   "file_extension": ".py",
   "mimetype": "text/x-python",
   "name": "python",
   "nbconvert_exporter": "python",
   "pygments_lexer": "ipython3",
   "version": "3.10.12"
  },
  "papermill": {
   "default_parameters": {},
   "duration": 70.623094,
   "end_time": "2023-12-20T19:56:51.888282",
   "environment_variables": {},
   "exception": null,
   "input_path": "__notebook__.ipynb",
   "output_path": "__notebook__.ipynb",
   "parameters": {},
   "start_time": "2023-12-20T19:55:41.265188",
   "version": "2.4.0"
  }
 },
 "nbformat": 4,
 "nbformat_minor": 5
}
